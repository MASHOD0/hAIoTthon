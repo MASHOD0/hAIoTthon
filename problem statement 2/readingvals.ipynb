{
 "cells": [
  {
   "cell_type": "code",
   "execution_count": null,
   "id": "0070d6f5",
   "metadata": {},
   "outputs": [],
   "source": []
  },
  {
   "cell_type": "code",
   "execution_count": 67,
   "id": "020d2127",
   "metadata": {},
   "outputs": [
    {
     "name": "stdout",
     "output_type": "stream",
     "text": [
      "[103.0, 103.0, 104.0, 105.0, 106.0, 107.0, 108.0, 110.0, 111.0, 113.0, 114.0, 116.0, 118.0, 119.0, 121.0, 123.0, 126.0, 133.0, 135.0, 136.0, 138.0, 139.0, 141.0, 142.0, 143.0, 144.0, 146.0, 146.0, 148.0, 148.0, 149.0, 150.0, 150.0, 150.0, 151.0, 151.0, 151.0, 150.0, 149.0, 147.0, 147.0, 145.0, 144.0, 142.0, 140.0, 139.0, 137.0, 135.0, 133.0, 125.0, 123.0, 122.0, 120.0, 119.0, 117.0, 116.0, 114.0, 113.0, 112.0, 110.0, 109.0, 108.0, 107.0, 106.0, 105.0, 104.0, 104.0, 103.0, 103.0, 103.0]\n"
     ]
    }
   ],
   "source": [
    "#% inline matplotlib\n",
    "from matplotlib import pyplot as plt\n",
    "import numpy as np\n",
    "curve = []\n",
    "x = []\n",
    "y = []\n",
    "with open(\"data/IM_0003_inx.txt\", \"r\") as file:\n",
    "    for line in file:\n",
    "        point = line.split()\n",
    "        x.append(float(line.split()[0]))\n",
    "        y.append(float(line.split()[0]))\n",
    "        curve.append(point)\n",
    "#plt.scatter(x,y, s=500)\n",
    "\n",
    "        \n",
    "#x , y = np.loadtext(\"data/IM_0003_inx.txt\", skiprows = 0, unpack = True)\n",
    "print(y)"
   ]
  },
  {
   "cell_type": "code",
   "execution_count": null,
   "id": "5e58d7d3",
   "metadata": {},
   "outputs": [],
   "source": []
  },
  {
   "cell_type": "code",
   "execution_count": null,
   "id": "2b49baaf",
   "metadata": {},
   "outputs": [],
   "source": []
  },
  {
   "cell_type": "code",
   "execution_count": null,
   "id": "ebb430ab",
   "metadata": {},
   "outputs": [],
   "source": []
  }
 ],
 "metadata": {
  "kernelspec": {
   "display_name": "Python 3 (ipykernel)",
   "language": "python",
   "name": "python3"
  },
  "language_info": {
   "codemirror_mode": {
    "name": "ipython",
    "version": 3
   },
   "file_extension": ".py",
   "mimetype": "text/x-python",
   "name": "python",
   "nbconvert_exporter": "python",
   "pygments_lexer": "ipython3",
   "version": "3.9.2"
  }
 },
 "nbformat": 4,
 "nbformat_minor": 5
}
